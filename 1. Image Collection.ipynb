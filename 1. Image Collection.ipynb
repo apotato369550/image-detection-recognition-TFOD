{
 "cells": [
  {
   "cell_type": "markdown",
   "metadata": {},
   "source": [
    "# 1. Import Dependencies"
   ]
  },
  {
   "cell_type": "code",
   "execution_count": 5,
   "metadata": {},
   "outputs": [
    {
     "name": "stdout",
     "output_type": "stream",
     "text": [
      "Requirement already satisfied: opencv-python in d:\\my programming projects\\tensorflow\\object_detection\\tfodcourse\\tfod\\lib\\site-packages (4.7.0.72)\n",
      "Requirement already satisfied: numpy>=1.17.0 in d:\\my programming projects\\tensorflow\\object_detection\\tfodcourse\\tfod\\lib\\site-packages (from opencv-python) (1.21.6)\n"
     ]
    }
   ],
   "source": [
    "!pip install opencv-python"
   ]
  },
  {
   "cell_type": "code",
   "execution_count": 2,
   "metadata": {},
   "outputs": [],
   "source": [
    "# Import opencv\n",
    "import cv2 \n",
    "\n",
    "# Import uuid\n",
    "import uuid\n",
    "\n",
    "# Import Operating System\n",
    "import os\n",
    "\n",
    "# Import time\n",
    "import time"
   ]
  },
  {
   "cell_type": "markdown",
   "metadata": {},
   "source": [
    "# 2. Define Images to Collect"
   ]
  },
  {
   "cell_type": "code",
   "execution_count": 7,
   "metadata": {},
   "outputs": [],
   "source": [
    "# declare the diff. kinds of labels & number of images to gather per label\n",
    "labels = ['thumbsup', 'thumbsdown', 'fingerheart', 'livelong']\n",
    "number_imgs = 5"
   ]
  },
  {
   "cell_type": "markdown",
   "metadata": {},
   "source": [
    "# 3. Setup Folders "
   ]
  },
  {
   "cell_type": "code",
   "execution_count": 8,
   "metadata": {},
   "outputs": [],
   "source": [
    "# creates following filepath in current folder:\n",
    "# Tensorflow/workspace/images/collectedimages\n",
    "IMAGES_PATH = os.path.join('Tensorflow', 'workspace', 'images', 'collectedimages')"
   ]
  },
  {
   "cell_type": "code",
   "execution_count": 9,
   "metadata": {},
   "outputs": [
    {
     "data": {
      "text/plain": [
       "'nt'"
      ]
     },
     "execution_count": 9,
     "metadata": {},
     "output_type": "execute_result"
    }
   ],
   "source": [
    "os.name"
   ]
  },
  {
   "cell_type": "code",
   "execution_count": 10,
   "metadata": {},
   "outputs": [],
   "source": [
    "if not os.path.exists(IMAGES_PATH):\n",
    "    if os.name == 'posix': # if linux\n",
    "        !mkdir -p {IMAGES_PATH}\n",
    "    if os.name == 'nt': # if windows\n",
    "         !mkdir {IMAGES_PATH}\n",
    "for label in labels:\n",
    "    # create a separate folder for each label\n",
    "    path = os.path.join(IMAGES_PATH, label)\n",
    "    if not os.path.exists(path):\n",
    "        !mkdir {path}"
   ]
  },
  {
   "cell_type": "markdown",
   "metadata": {},
   "source": [
    "# 4. Capture Images (my version)"
   ]
  },
  {
   "cell_type": "code",
   "execution_count": 12,
   "metadata": {},
   "outputs": [
    {
     "name": "stdout",
     "output_type": "stream",
     "text": [
      "Image captured: Tensorflow/workspace/images/collectedimages/thumbsup/thumbsup_179d12a2-fc8e-11ed-9c2d-00e04c06f2d0.jpg\n",
      "Image captured: Tensorflow/workspace/images/collectedimages/thumbsup/thumbsup_1bb0d568-fc8e-11ed-95d5-00e04c06f2d0.jpg\n",
      "Image captured: Tensorflow/workspace/images/collectedimages/thumbsup/thumbsup_1d7bd822-fc8e-11ed-bdd8-00e04c06f2d0.jpg\n",
      "Image captured: Tensorflow/workspace/images/collectedimages/thumbsup/thumbsup_1f640038-fc8e-11ed-8363-00e04c06f2d0.jpg\n",
      "Image captured: Tensorflow/workspace/images/collectedimages/thumbsup/thumbsup_23cbd7ac-fc8e-11ed-a698-00e04c06f2d0.jpg\n",
      "Image captured: Tensorflow/workspace/images/collectedimages/thumbsdown/thumbsdown_2c71dde6-fc8e-11ed-8edf-00e04c06f2d0.jpg\n",
      "Image captured: Tensorflow/workspace/images/collectedimages/thumbsdown/thumbsdown_2e8890ba-fc8e-11ed-8c64-00e04c06f2d0.jpg\n",
      "Image captured: Tensorflow/workspace/images/collectedimages/thumbsdown/thumbsdown_3127d680-fc8e-11ed-bb93-00e04c06f2d0.jpg\n",
      "Image captured: Tensorflow/workspace/images/collectedimages/thumbsdown/thumbsdown_34217298-fc8e-11ed-9d6d-00e04c06f2d0.jpg\n",
      "Image captured: Tensorflow/workspace/images/collectedimages/thumbsdown/thumbsdown_36fde950-fc8e-11ed-bae4-00e04c06f2d0.jpg\n",
      "Image captured: Tensorflow/workspace/images/collectedimages/thankyou/thankyou_7a3c2eee-fc8e-11ed-9ad5-00e04c06f2d0.jpg\n",
      "Image captured: Tensorflow/workspace/images/collectedimages/thankyou/thankyou_7bf61a66-fc8e-11ed-86ca-00e04c06f2d0.jpg\n",
      "Image captured: Tensorflow/workspace/images/collectedimages/thankyou/thankyou_7e49fe30-fc8e-11ed-bc58-00e04c06f2d0.jpg\n",
      "Image captured: Tensorflow/workspace/images/collectedimages/thankyou/thankyou_80322646-fc8e-11ed-837f-00e04c06f2d0.jpg\n",
      "Image captured: Tensorflow/workspace/images/collectedimages/thankyou/thankyou_85d98748-fc8e-11ed-9c5d-00e04c06f2d0.jpg\n",
      "Image captured: Tensorflow/workspace/images/collectedimages/livelong/livelong_94fdf0ba-fc8e-11ed-9ff4-00e04c06f2d0.jpg\n",
      "Image captured: Tensorflow/workspace/images/collectedimages/livelong/livelong_9603087e-fc8e-11ed-818c-00e04c06f2d0.jpg\n",
      "Image captured: Tensorflow/workspace/images/collectedimages/livelong/livelong_98a24e40-fc8e-11ed-a8c6-00e04c06f2d0.jpg\n",
      "Image captured: Tensorflow/workspace/images/collectedimages/livelong/livelong_99f0cc26-fc8e-11ed-8f30-00e04c06f2d0.jpg\n",
      "Image captured: Tensorflow/workspace/images/collectedimages/livelong/livelong_9b04b130-fc8e-11ed-b74a-00e04c06f2d0.jpg\n",
      "Closing application\n"
     ]
    }
   ],
   "source": [
    "capture = cv2.VideoCapture(0, cv2.CAP_DSHOW)\n",
    "cv2.namedWindow(\"Image Capture\")\n",
    "capture.set(cv2.CAP_PROP_FRAME_WIDTH, 1280)\n",
    "capture.set(cv2.CAP_PROP_FRAME_HEIGHT, 720)\n",
    "\n",
    "current_image = 0\n",
    "current_label = 0 \n",
    "\n",
    "while True:\n",
    "    ret, frame = capture.read()\n",
    "\n",
    "    if ret:\n",
    "        cv2.imshow(\"test\", frame)\n",
    "\n",
    "    k = cv2.waitKey(1)\n",
    "\n",
    "    if k % 256 == 27:\n",
    "        print(\"Closing application\")\n",
    "        break\n",
    "    elif k % 256 == 32:\n",
    "        image_name = f\"Tensorflow/workspace/images/collectedimages/{labels[current_label]}/{labels[current_label]}_{uuid.uuid1()}.jpg\"\n",
    "        cv2.imwrite(image_name, frame)\n",
    "        print(f\"Image captured: {image_name}\")\n",
    "        current_image += 1\n",
    "        if current_image >= 5: \n",
    "            current_image = 0\n",
    "            current_label += 1\n",
    "            \n",
    "    if curent_label >= len(labels):\n",
    "        break\n",
    "\n",
    "capture.release()\n",
    "\n",
    "cv2.destroyAllWindows()\n",
    "            "
   ]
  },
  {
   "cell_type": "markdown",
   "metadata": {},
   "source": [
    "# 5. Image Labelling"
   ]
  },
  {
   "cell_type": "code",
   "execution_count": 11,
   "metadata": {},
   "outputs": [
    {
     "name": "stdout",
     "output_type": "stream",
     "text": [
      "Requirement already satisfied: pyqt5 in d:\\my programming projects\\tensorflow\\object_detection\\tfodcourse\\tfod\\lib\\site-packages (5.15.9)\n",
      "Requirement already satisfied: lxml in d:\\my programming projects\\tensorflow\\object_detection\\tfodcourse\\tfod\\lib\\site-packages (4.9.2)\n",
      "Requirement already satisfied: PyQt5-sip<13,>=12.11 in d:\\my programming projects\\tensorflow\\object_detection\\tfodcourse\\tfod\\lib\\site-packages (from pyqt5) (12.12.1)\n",
      "Requirement already satisfied: PyQt5-Qt5>=5.15.2 in d:\\my programming projects\\tensorflow\\object_detection\\tfodcourse\\tfod\\lib\\site-packages (from pyqt5) (5.15.2)\n"
     ]
    }
   ],
   "source": [
    "!pip install --upgrade pyqt5 lxml"
   ]
  },
  {
   "cell_type": "code",
   "execution_count": 12,
   "metadata": {},
   "outputs": [],
   "source": [
    "LABELIMG_PATH = os.path.join('Tensorflow', 'labelimg')"
   ]
  },
  {
   "cell_type": "code",
   "execution_count": 13,
   "metadata": {},
   "outputs": [],
   "source": [
    "if not os.path.exists(LABELIMG_PATH):\n",
    "    !mkdir {LABELIMG_PATH}\n",
    "    !git clone https://github.com/tzutalin/labelImg {LABELIMG_PATH}"
   ]
  },
  {
   "cell_type": "code",
   "execution_count": 14,
   "metadata": {},
   "outputs": [],
   "source": [
    "if os.name == 'posix':\n",
    "    !make qt5py3\n",
    "if os.name =='nt':\n",
    "    !cd {LABELIMG_PATH} && pyrcc5 -o libs/resources.py resources.qrc"
   ]
  },
  {
   "cell_type": "code",
   "execution_count": 15,
   "metadata": {},
   "outputs": [
    {
     "name": "stdout",
     "output_type": "stream",
     "text": [
      "Image:D:\\My Programming Projects\\Tensorflow\\object_detection\\TFODCourse\\Tensorflow\\workspace\\images\\collectedimages\\livelong\\livelong_9b04b130-fc8e-11ed-b74a-00e04c06f2d0.jpg -> Annotation:D:/My Programming Projects/Tensorflow/object_detection/TFODCourse/Tensorflow/workspace/images/collectedimages/livelong\\livelong_9b04b130-fc8e-11ed-b74a-00e04c06f2d0.xml\n",
      "Image:D:\\My Programming Projects\\Tensorflow\\object_detection\\TFODCourse\\Tensorflow\\workspace\\images\\collectedimages\\livelong\\livelong_94fdf0ba-fc8e-11ed-9ff4-00e04c06f2d0.jpg -> Annotation:D:/My Programming Projects/Tensorflow/object_detection/TFODCourse/Tensorflow/workspace/images/collectedimages/livelong\\livelong_94fdf0ba-fc8e-11ed-9ff4-00e04c06f2d0.xml\n",
      "Image:D:\\My Programming Projects\\Tensorflow\\object_detection\\TFODCourse\\Tensorflow\\workspace\\images\\collectedimages\\livelong\\livelong_98a24e40-fc8e-11ed-a8c6-00e04c06f2d0.jpg -> Annotation:D:/My Programming Projects/Tensorflow/object_detection/TFODCourse/Tensorflow/workspace/images/collectedimages/livelong\\livelong_98a24e40-fc8e-11ed-a8c6-00e04c06f2d0.xml\n",
      "Image:D:\\My Programming Projects\\Tensorflow\\object_detection\\TFODCourse\\Tensorflow\\workspace\\images\\collectedimages\\livelong\\livelong_99f0cc26-fc8e-11ed-8f30-00e04c06f2d0.jpg -> Annotation:D:/My Programming Projects/Tensorflow/object_detection/TFODCourse/Tensorflow/workspace/images/collectedimages/livelong\\livelong_99f0cc26-fc8e-11ed-8f30-00e04c06f2d0.xml\n",
      "Image:D:\\My Programming Projects\\Tensorflow\\object_detection\\TFODCourse\\Tensorflow\\workspace\\images\\collectedimages\\livelong\\livelong_9603087e-fc8e-11ed-818c-00e04c06f2d0.jpg -> Annotation:D:/My Programming Projects/Tensorflow/object_detection/TFODCourse/Tensorflow/workspace/images/collectedimages/livelong\\livelong_9603087e-fc8e-11ed-818c-00e04c06f2d0.xml\n",
      "Image:D:\\My Programming Projects\\Tensorflow\\object_detection\\TFODCourse\\Tensorflow\\workspace\\images\\collectedimages\\fingerheart\\fingerheart_7a3c2eee-fc8e-11ed-9ad5-00e04c06f2d0.jpg -> Annotation:D:/My Programming Projects/Tensorflow/object_detection/TFODCourse/Tensorflow/workspace/images/collectedimages/fingerheart\\fingerheart_7a3c2eee-fc8e-11ed-9ad5-00e04c06f2d0.xml\n",
      "Image:D:\\My Programming Projects\\Tensorflow\\object_detection\\TFODCourse\\Tensorflow\\workspace\\images\\collectedimages\\fingerheart\\fingerheart_7bf61a66-fc8e-11ed-86ca-00e04c06f2d0.jpg -> Annotation:D:/My Programming Projects/Tensorflow/object_detection/TFODCourse/Tensorflow/workspace/images/collectedimages/fingerheart\\fingerheart_7bf61a66-fc8e-11ed-86ca-00e04c06f2d0.xml\n",
      "Image:D:\\My Programming Projects\\Tensorflow\\object_detection\\TFODCourse\\Tensorflow\\workspace\\images\\collectedimages\\fingerheart\\fingerheart_7bf61a66-fc8e-11ed-86ca-00e04c06f2d0.jpg -> Annotation:D:/My Programming Projects/Tensorflow/object_detection/TFODCourse/Tensorflow/workspace/images/collectedimages/fingerheart\\fingerheart_7bf61a66-fc8e-11ed-86ca-00e04c06f2d0.xml\n",
      "Image:D:\\My Programming Projects\\Tensorflow\\object_detection\\TFODCourse\\Tensorflow\\workspace\\images\\collectedimages\\fingerheart\\fingerheart_7e49fe30-fc8e-11ed-bc58-00e04c06f2d0.jpg -> Annotation:D:/My Programming Projects/Tensorflow/object_detection/TFODCourse/Tensorflow/workspace/images/collectedimages/fingerheart\\fingerheart_7e49fe30-fc8e-11ed-bc58-00e04c06f2d0.xml\n",
      "Image:D:\\My Programming Projects\\Tensorflow\\object_detection\\TFODCourse\\Tensorflow\\workspace\\images\\collectedimages\\fingerheart\\fingerheart_85d98748-fc8e-11ed-9c5d-00e04c06f2d0.jpg -> Annotation:D:/My Programming Projects/Tensorflow/object_detection/TFODCourse/Tensorflow/workspace/images/collectedimages/fingerheart\\fingerheart_85d98748-fc8e-11ed-9c5d-00e04c06f2d0.xml\n",
      "Image:D:\\My Programming Projects\\Tensorflow\\object_detection\\TFODCourse\\Tensorflow\\workspace\\images\\collectedimages\\fingerheart\\fingerheart_80322646-fc8e-11ed-837f-00e04c06f2d0.jpg -> Annotation:D:/My Programming Projects/Tensorflow/object_detection/TFODCourse/Tensorflow/workspace/images/collectedimages/fingerheart\\fingerheart_80322646-fc8e-11ed-837f-00e04c06f2d0.xml\n",
      "Image:D:\\My Programming Projects\\Tensorflow\\object_detection\\TFODCourse\\Tensorflow\\workspace\\images\\collectedimages\\thumbsdown\\thumbsdown_2c71dde6-fc8e-11ed-8edf-00e04c06f2d0.jpg -> Annotation:D:/My Programming Projects/Tensorflow/object_detection/TFODCourse/Tensorflow/workspace/images/collectedimages/thumbsdown\\thumbsdown_2c71dde6-fc8e-11ed-8edf-00e04c06f2d0.xml\n",
      "Image:D:\\My Programming Projects\\Tensorflow\\object_detection\\TFODCourse\\Tensorflow\\workspace\\images\\collectedimages\\thumbsdown\\thumbsdown_2e8890ba-fc8e-11ed-8c64-00e04c06f2d0.jpg -> Annotation:D:/My Programming Projects/Tensorflow/object_detection/TFODCourse/Tensorflow/workspace/images/collectedimages/thumbsdown\\thumbsdown_2e8890ba-fc8e-11ed-8c64-00e04c06f2d0.xml\n",
      "Image:D:\\My Programming Projects\\Tensorflow\\object_detection\\TFODCourse\\Tensorflow\\workspace\\images\\collectedimages\\thumbsdown\\thumbsdown_36fde950-fc8e-11ed-bae4-00e04c06f2d0.jpg -> Annotation:D:/My Programming Projects/Tensorflow/object_detection/TFODCourse/Tensorflow/workspace/images/collectedimages/thumbsdown\\thumbsdown_36fde950-fc8e-11ed-bae4-00e04c06f2d0.xml\n",
      "Image:D:\\My Programming Projects\\Tensorflow\\object_detection\\TFODCourse\\Tensorflow\\workspace\\images\\collectedimages\\thumbsdown\\thumbsdown_3127d680-fc8e-11ed-bb93-00e04c06f2d0.jpg -> Annotation:D:/My Programming Projects/Tensorflow/object_detection/TFODCourse/Tensorflow/workspace/images/collectedimages/thumbsdown\\thumbsdown_3127d680-fc8e-11ed-bb93-00e04c06f2d0.xml\n",
      "Image:D:\\My Programming Projects\\Tensorflow\\object_detection\\TFODCourse\\Tensorflow\\workspace\\images\\collectedimages\\thumbsdown\\thumbsdown_34217298-fc8e-11ed-9d6d-00e04c06f2d0.jpg -> Annotation:D:/My Programming Projects/Tensorflow/object_detection/TFODCourse/Tensorflow/workspace/images/collectedimages/thumbsdown\\thumbsdown_34217298-fc8e-11ed-9d6d-00e04c06f2d0.xml\n",
      "Image:D:\\My Programming Projects\\Tensorflow\\object_detection\\TFODCourse\\Tensorflow\\workspace\\images\\collectedimages\\thumbsup\\thumbsup_1bb0d568-fc8e-11ed-95d5-00e04c06f2d0.jpg -> Annotation:D:/My Programming Projects/Tensorflow/object_detection/TFODCourse/Tensorflow/workspace/images/collectedimages/thumbsdown\\thumbsup_1bb0d568-fc8e-11ed-95d5-00e04c06f2d0.xml\n",
      "Image:D:\\My Programming Projects\\Tensorflow\\object_detection\\TFODCourse\\Tensorflow\\workspace\\images\\collectedimages\\thumbsup\\thumbsup_1d7bd822-fc8e-11ed-bdd8-00e04c06f2d0.jpg -> Annotation:D:/My Programming Projects/Tensorflow/object_detection/TFODCourse/Tensorflow/workspace/images/collectedimages/thumbsup\\thumbsup_1d7bd822-fc8e-11ed-bdd8-00e04c06f2d0.xml\n",
      "Image:D:\\My Programming Projects\\Tensorflow\\object_detection\\TFODCourse\\Tensorflow\\workspace\\images\\collectedimages\\thumbsup\\thumbsup_1f640038-fc8e-11ed-8363-00e04c06f2d0.jpg -> Annotation:D:/My Programming Projects/Tensorflow/object_detection/TFODCourse/Tensorflow/workspace/images/collectedimages/thumbsup\\thumbsup_1f640038-fc8e-11ed-8363-00e04c06f2d0.xml\n",
      "Image:D:\\My Programming Projects\\Tensorflow\\object_detection\\TFODCourse\\Tensorflow\\workspace\\images\\collectedimages\\thumbsup\\thumbsup_23cbd7ac-fc8e-11ed-a698-00e04c06f2d0.jpg -> Annotation:D:/My Programming Projects/Tensorflow/object_detection/TFODCourse/Tensorflow/workspace/images/collectedimages/thumbsup\\thumbsup_23cbd7ac-fc8e-11ed-a698-00e04c06f2d0.xml\n",
      "Image:D:\\My Programming Projects\\Tensorflow\\object_detection\\TFODCourse\\Tensorflow\\workspace\\images\\collectedimages\\thumbsup\\thumbsup_179d12a2-fc8e-11ed-9c2d-00e04c06f2d0.jpg -> Annotation:D:/My Programming Projects/Tensorflow/object_detection/TFODCourse/Tensorflow/workspace/images/collectedimages/thumbsup\\thumbsup_179d12a2-fc8e-11ed-9c2d-00e04c06f2d0.xml\n"
     ]
    }
   ],
   "source": [
    "!cd {LABELIMG_PATH} && python labelImg.py"
   ]
  },
  {
   "cell_type": "markdown",
   "metadata": {},
   "source": [
    "# 6. Move them into a Training and Testing Partition"
   ]
  },
  {
   "cell_type": "markdown",
   "metadata": {},
   "source": [
    "# OPTIONAL - 7. Compress them for Colab Training"
   ]
  },
  {
   "cell_type": "code",
   "execution_count": 3,
   "metadata": {},
   "outputs": [],
   "source": [
    "TRAIN_PATH = os.path.join('Tensorflow', 'workspace', 'images', 'train')\n",
    "TEST_PATH = os.path.join('Tensorflow', 'workspace', 'images', 'test')\n",
    "ARCHIVE_PATH = os.path.join('Tensorflow', 'workspace', 'images', 'archive.tar.gz')"
   ]
  },
  {
   "cell_type": "code",
   "execution_count": 5,
   "metadata": {},
   "outputs": [
    {
     "name": "stderr",
     "output_type": "stream",
     "text": [
      "tar: Cannot fork: Function not implemented\n",
      "tar: Error is not recoverable: exiting now\n"
     ]
    }
   ],
   "source": [
    "!tar -czf {ARCHIVE_PATH} {TRAIN_PATH} {TEST_PATH}"
   ]
  },
  {
   "cell_type": "code",
   "execution_count": null,
   "metadata": {},
   "outputs": [],
   "source": []
  }
 ],
 "metadata": {
  "kernelspec": {
   "display_name": "tfod",
   "language": "python",
   "name": "tfod"
  },
  "language_info": {
   "codemirror_mode": {
    "name": "ipython",
    "version": 3
   },
   "file_extension": ".py",
   "mimetype": "text/x-python",
   "name": "python",
   "nbconvert_exporter": "python",
   "pygments_lexer": "ipython3",
   "version": "3.7.0"
  }
 },
 "nbformat": 4,
 "nbformat_minor": 2
}
